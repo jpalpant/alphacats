{
 "cells": [
  {
   "cell_type": "code",
   "execution_count": 2,
   "metadata": {},
   "outputs": [
    {
     "name": "stderr",
     "output_type": "stream",
     "text": [
      "Using TensorFlow backend.\n"
     ]
    }
   ],
   "source": [
    "import glob\n",
    "import logging\n",
    "import os\n",
    "\n",
    "from keras.callbacks import (\n",
    "    EarlyStopping,\n",
    "    TerminateOnNaN,\n",
    "    ModelCheckpoint,\n",
    ")\n",
    "from keras.layers import (\n",
    "    Dense,\n",
    "    Dropout,\n",
    "    CuDNNLSTM,\n",
    ")\n",
    "from keras.layers.wrappers import Bidirectional\n",
    "from keras.models import Sequential\n",
    "from keras.utils import Sequence\n",
    "import matplotlib.pyplot as plt\n",
    "plt.style.use('ggplot')\n",
    "import numpy as np\n",
    "\n",
    "%matplotlib inline"
   ]
  },
  {
   "cell_type": "code",
   "execution_count": 3,
   "metadata": {},
   "outputs": [],
   "source": [
    "logger = logging.getLogger()\n",
    "logger.setLevel(logging.INFO)"
   ]
  },
  {
   "cell_type": "code",
   "execution_count": 4,
   "metadata": {},
   "outputs": [],
   "source": [
    "MAX_HISTORY = 48\n",
    "N_FEATURES = 59\n",
    "MAX_CARDS_IN_DRAW_PILE = 13"
   ]
  },
  {
   "cell_type": "code",
   "execution_count": 5,
   "metadata": {},
   "outputs": [],
   "source": [
    "class TrainingSequence(Sequence):\n",
    "    def __init__(self, directory: str):\n",
    "        self.batches = sorted(glob.glob(os.path.join(directory, \"batch_*.npz\")))\n",
    "        logging.debug(\"Found %d batches in %s\", len(self.batches), directory)\n",
    "\n",
    "    def __len__(self):\n",
    "        return len(self.batches)\n",
    "\n",
    "    def __getitem__(self, idx):\n",
    "        logging.debug(\"Loading batch %d\", idx)\n",
    "        batch = np.load(self.batches[idx])\n",
    "        n_samples = len(batch[\"X\"]) // MAX_HISTORY // N_FEATURES\n",
    "        X = batch[\"X\"].reshape((n_samples, MAX_HISTORY, N_FEATURES))\n",
    "        y = batch[\"y\"].reshape((n_samples, MAX_CARDS_IN_DRAW_PILE))\n",
    "        return X, y"
   ]
  },
  {
   "cell_type": "code",
   "execution_count": 6,
   "metadata": {},
   "outputs": [],
   "source": [
    "def build_model(input_shape: tuple, output_shape: int):\n",
    "    model = Sequential([\n",
    "        Bidirectional(CuDNNLSTM(128, return_sequences=False),\n",
    "                      input_shape=input_shape),\n",
    "        Dense(output_shape, activation='softmax'),\n",
    "    ])\n",
    "\n",
    "    model.compile(\n",
    "        loss='categorical_crossentropy',\n",
    "        optimizer='adam',\n",
    "        metrics=['accuracy'])\n",
    "    return model\n",
    "\n",
    "\n",
    "def train(model, data, val_data):\n",
    "    history = model.fit_generator(\n",
    "        data,\n",
    "        epochs=50,\n",
    "        validation_data=data,\n",
    "        use_multiprocessing=True,\n",
    "        workers=8,\n",
    "        max_queue_size=16,\n",
    "        callbacks=[\n",
    "            EarlyStopping(\n",
    "                monitor='val_loss', min_delta=0.001, patience=5,\n",
    "                restore_best_weights=True),\n",
    "            TerminateOnNaN(),\n",
    "        ],\n",
    "    )\n",
    "\n",
    "    return model, history"
   ]
  },
  {
   "cell_type": "code",
   "execution_count": null,
   "metadata": {},
   "outputs": [],
   "source": [
    "data_dir = '/home/timpalpant/go/src/github.com/timpalpant/alphacats/model'\n",
    "data = TrainingSequence(os.path.join(data_dir, 'train-samples'))\n",
    "val_data = TrainingSequence(os.path.join(data_dir, 'val-samples'))\n",
    "test_data = TrainingSequence(os.path.join(data_dir, 'test-samples'))\n",
    "\n",
    "X, y = data[0]\n",
    "input_shape = X[0].shape\n",
    "output_shape = y[0].shape[0]\n",
    "model = build_model(input_shape, output_shape)\n",
    "print(model.summary())\n",
    "\n",
    "model, history = train(model, data, val_data)\n",
    "model.save('model2.hd5')"
   ]
  },
  {
   "cell_type": "code",
   "execution_count": null,
   "metadata": {},
   "outputs": [],
   "source": [
    "h = history.history\n",
    "epochs = np.arange(len(h['loss'])) + 1\n",
    "plt.plot(epochs, h['loss'], label='loss')\n",
    "plt.plot(epochs, h['val_loss'], label='val_loss')\n",
    "plt.xticks(epochs)\n",
    "plt.xlabel('Epoch')\n",
    "plt.ylabel('Loss')\n",
    "plt.legend()"
   ]
  },
  {
   "cell_type": "code",
   "execution_count": null,
   "metadata": {},
   "outputs": [],
   "source": [
    "predicted = model.predict_generator(test_data)"
   ]
  },
  {
   "cell_type": "code",
   "execution_count": null,
   "metadata": {},
   "outputs": [],
   "source": [
    "samples = list(yield_samples(test_data.batches[0]))\n",
    "actual = test_data[0][1]\n",
    "pred = predicted[:len(actual)]"
   ]
  },
  {
   "cell_type": "code",
   "execution_count": null,
   "metadata": {},
   "outputs": [],
   "source": [
    "def has_see_the_kitten(sample: Sample):\n",
    "    for h in sample.infoset.history:\n",
    "        if h.type == sample_pb2.Action.PLAY_CARD and h.card == sample_pb2.SEE_THE_FUTURE:\n",
    "            if any(card == sample_pb2.EXPLODING_KITTEN for card in h.cards_seen):\n",
    "                return True\n",
    "    return False\n",
    "\n",
    "selected = -1\n",
    "for i, s in enumerate(samples):\n",
    "    if has_see_the_kitten(s):\n",
    "        selected = i\n",
    "print(selected)\n",
    "\n",
    "samples[4000]"
   ]
  },
  {
   "cell_type": "markdown",
   "metadata": {},
   "source": [
    "Fig 1: Normal learning equal probability for each and not to predict invalid positions\n",
    "Fig 2: See the future with exploding kitten + reset after shuffle\n",
    "Fig 3: See the future with no kitten + reset after shuffle\n",
    "Fig 4: Insert exploding kitten + know its position exactly + shift after draws\n",
    "Fig 5: Other player inserts kitten"
   ]
  },
  {
   "cell_type": "code",
   "execution_count": null,
   "metadata": {},
   "outputs": [],
   "source": [
    "positions = np.arange(MAX_CARDS_IN_DRAW_PILE)\n",
    "\n",
    "plt.figure(figsize=(12,4))\n",
    "plt.subplot(1, 3, 1)\n",
    "plt.bar(positions, pred[3090], width=0.5, label='predicted')\n",
    "plt.bar(positions+0.5, actual[3090], width=0.5, label='actual')\n",
    "plt.xticks(positions+0.5, positions)\n",
    "plt.xlabel('Position')\n",
    "plt.ylabel('Probability')\n",
    "plt.legend()\n",
    "\n",
    "plt.subplot(1, 3, 2)\n",
    "plt.bar(positions, pred[3096], width=0.5, label='predicted')\n",
    "plt.bar(positions+0.5, actual[3096], width=0.5, label='actual')\n",
    "plt.xticks(positions+0.5, positions)\n",
    "plt.xlabel('Position')\n",
    "plt.ylabel('Probability')\n",
    "plt.legend()\n",
    "\n",
    "plt.subplot(1, 3, 3)\n",
    "plt.bar(positions, pred[4000], width=0.5, label='predicted')\n",
    "plt.bar(positions+0.5, actual[4000], width=0.5, label='actual')\n",
    "plt.xticks(positions+0.5, positions)\n",
    "plt.xlabel('Position')\n",
    "plt.ylabel('Probability')\n",
    "plt.legend()"
   ]
  },
  {
   "cell_type": "code",
   "execution_count": null,
   "metadata": {},
   "outputs": [],
   "source": [
    "pred[4021]"
   ]
  },
  {
   "cell_type": "code",
   "execution_count": null,
   "metadata": {},
   "outputs": [],
   "source": []
  }
 ],
 "metadata": {
  "kernelspec": {
   "display_name": "Python 3",
   "language": "python",
   "name": "python3"
  },
  "language_info": {
   "codemirror_mode": {
    "name": "ipython",
    "version": 3
   },
   "file_extension": ".py",
   "mimetype": "text/x-python",
   "name": "python",
   "nbconvert_exporter": "python",
   "pygments_lexer": "ipython3",
   "version": "3.6.7"
  }
 },
 "nbformat": 4,
 "nbformat_minor": 2
}
