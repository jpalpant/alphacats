{
 "cells": [
  {
   "cell_type": "code",
   "execution_count": 1,
   "metadata": {},
   "outputs": [
    {
     "name": "stderr",
     "output_type": "stream",
     "text": [
      "Using TensorFlow backend.\n"
     ]
    }
   ],
   "source": [
    "import glob\n",
    "import logging\n",
    "import os\n",
    "\n",
    "from keras.callbacks import (\n",
    "    EarlyStopping,\n",
    "    TerminateOnNaN,\n",
    "    ModelCheckpoint,\n",
    ")\n",
    "from keras.layers import (\n",
    "    Dense,\n",
    "    Dropout,\n",
    "    CuDNNLSTM,\n",
    ")\n",
    "from keras.layers.wrappers import Bidirectional\n",
    "from keras.models import Sequential\n",
    "from keras.utils import Sequence\n",
    "import matplotlib.pyplot as plt\n",
    "plt.style.use('ggplot')\n",
    "import numpy as np\n",
    "from sklearn.utils import class_weight\n",
    "\n",
    "%matplotlib inline"
   ]
  },
  {
   "cell_type": "code",
   "execution_count": 2,
   "metadata": {},
   "outputs": [],
   "source": [
    "logger = logging.getLogger()\n",
    "logger.setLevel(logging.INFO)"
   ]
  },
  {
   "cell_type": "code",
   "execution_count": 3,
   "metadata": {},
   "outputs": [],
   "source": [
    "MAX_HISTORY = 48\n",
    "N_FEATURES = 59\n",
    "MAX_CARDS_IN_DRAW_PILE = 13"
   ]
  },
  {
   "cell_type": "code",
   "execution_count": 4,
   "metadata": {},
   "outputs": [],
   "source": [
    "class TrainingSequence(Sequence):\n",
    "    def __init__(self, directory: str):\n",
    "        self.batches = sorted(glob.glob(os.path.join(directory, \"batch_*.npz\")))\n",
    "        logging.debug(\"Found %d batches in %s\", len(self.batches), directory)\n",
    "\n",
    "    def __len__(self):\n",
    "        return len(self.batches)\n",
    "\n",
    "    def __getitem__(self, idx):\n",
    "        logging.debug(\"Loading batch %d\", idx)\n",
    "        batch = np.load(self.batches[idx])\n",
    "        n_samples = len(batch[\"X\"]) // MAX_HISTORY // N_FEATURES\n",
    "        X = batch[\"X\"].reshape((n_samples, MAX_HISTORY, N_FEATURES))\n",
    "        y = batch[\"y\"].reshape((n_samples, MAX_CARDS_IN_DRAW_PILE))\n",
    "        return X, y"
   ]
  },
  {
   "cell_type": "code",
   "execution_count": 5,
   "metadata": {},
   "outputs": [],
   "source": [
    "def build_model(input_shape: tuple, output_shape: int):\n",
    "    model = Sequential([\n",
    "        Bidirectional(CuDNNLSTM(128, return_sequences=False),\n",
    "                      input_shape=input_shape),\n",
    "        Dense(128, activation='relu'),\n",
    "        Dropout(0.3),\n",
    "        Dense(128, activation='relu'),\n",
    "        Dropout(0.3),\n",
    "        Dense(output_shape, activation='softmax'),\n",
    "    ])\n",
    "\n",
    "    model.compile(\n",
    "        loss='categorical_crossentropy',\n",
    "        optimizer='adam',\n",
    "        metrics=['accuracy'])\n",
    "    return model\n",
    "\n",
    "\n",
    "def train(model, data, val_data):\n",
    "    history = model.fit_generator(\n",
    "        data,\n",
    "        epochs=50,\n",
    "        validation_data=data,\n",
    "        use_multiprocessing=True,\n",
    "        workers=8,\n",
    "        max_queue_size=16,\n",
    "        callbacks=[\n",
    "            EarlyStopping(\n",
    "                monitor='val_loss', min_delta=0.005, patience=3,\n",
    "                restore_best_weights=True),\n",
    "            TerminateOnNaN(),\n",
    "        ],\n",
    "    )\n",
    "\n",
    "    return model, history"
   ]
  },
  {
   "cell_type": "code",
   "execution_count": 6,
   "metadata": {},
   "outputs": [
    {
     "name": "stdout",
     "output_type": "stream",
     "text": [
      "WARNING:tensorflow:From /home/timpalpant/.virtualenvs/alphacats/lib/python3.6/site-packages/tensorflow/python/framework/op_def_library.py:263: colocate_with (from tensorflow.python.framework.ops) is deprecated and will be removed in a future version.\n",
      "Instructions for updating:\n",
      "Colocations handled automatically by placer.\n"
     ]
    },
    {
     "name": "stderr",
     "output_type": "stream",
     "text": [
      "WARNING:tensorflow:From /home/timpalpant/.virtualenvs/alphacats/lib/python3.6/site-packages/tensorflow/python/framework/op_def_library.py:263: colocate_with (from tensorflow.python.framework.ops) is deprecated and will be removed in a future version.\n",
      "Instructions for updating:\n",
      "Colocations handled automatically by placer.\n"
     ]
    },
    {
     "name": "stdout",
     "output_type": "stream",
     "text": [
      "WARNING:tensorflow:From /home/timpalpant/.virtualenvs/alphacats/lib/python3.6/site-packages/keras/backend/tensorflow_backend.py:3445: calling dropout (from tensorflow.python.ops.nn_ops) with keep_prob is deprecated and will be removed in a future version.\n",
      "Instructions for updating:\n",
      "Please use `rate` instead of `keep_prob`. Rate should be set to `rate = 1 - keep_prob`.\n"
     ]
    },
    {
     "name": "stderr",
     "output_type": "stream",
     "text": [
      "WARNING:tensorflow:From /home/timpalpant/.virtualenvs/alphacats/lib/python3.6/site-packages/keras/backend/tensorflow_backend.py:3445: calling dropout (from tensorflow.python.ops.nn_ops) with keep_prob is deprecated and will be removed in a future version.\n",
      "Instructions for updating:\n",
      "Please use `rate` instead of `keep_prob`. Rate should be set to `rate = 1 - keep_prob`.\n"
     ]
    },
    {
     "name": "stdout",
     "output_type": "stream",
     "text": [
      "_________________________________________________________________\n",
      "Layer (type)                 Output Shape              Param #   \n",
      "=================================================================\n",
      "bidirectional_1 (Bidirection (None, 256)               193536    \n",
      "_________________________________________________________________\n",
      "dense_1 (Dense)              (None, 128)               32896     \n",
      "_________________________________________________________________\n",
      "dropout_1 (Dropout)          (None, 128)               0         \n",
      "_________________________________________________________________\n",
      "dense_2 (Dense)              (None, 128)               16512     \n",
      "_________________________________________________________________\n",
      "dropout_2 (Dropout)          (None, 128)               0         \n",
      "_________________________________________________________________\n",
      "dense_3 (Dense)              (None, 13)                1677      \n",
      "=================================================================\n",
      "Total params: 244,621\n",
      "Trainable params: 244,621\n",
      "Non-trainable params: 0\n",
      "_________________________________________________________________\n",
      "None\n",
      "WARNING:tensorflow:From /home/timpalpant/.virtualenvs/alphacats/lib/python3.6/site-packages/tensorflow/python/ops/math_ops.py:3066: to_int32 (from tensorflow.python.ops.math_ops) is deprecated and will be removed in a future version.\n",
      "Instructions for updating:\n",
      "Use tf.cast instead.\n"
     ]
    },
    {
     "name": "stderr",
     "output_type": "stream",
     "text": [
      "WARNING:tensorflow:From /home/timpalpant/.virtualenvs/alphacats/lib/python3.6/site-packages/tensorflow/python/ops/math_ops.py:3066: to_int32 (from tensorflow.python.ops.math_ops) is deprecated and will be removed in a future version.\n",
      "Instructions for updating:\n",
      "Use tf.cast instead.\n"
     ]
    },
    {
     "name": "stdout",
     "output_type": "stream",
     "text": [
      "Epoch 1/50\n",
      "1000/1000 [==============================] - 353s 353ms/step - loss: 2.0718 - acc: 0.2255 - val_loss: 1.9485 - val_acc: 0.2574\n",
      "Epoch 2/50\n",
      "1000/1000 [==============================] - 347s 347ms/step - loss: 1.9634 - acc: 0.2562 - val_loss: 1.9338 - val_acc: 0.2611\n",
      "Epoch 3/50\n",
      "1000/1000 [==============================] - 347s 347ms/step - loss: 1.9474 - acc: 0.2600 - val_loss: 1.9509 - val_acc: 0.2609\n",
      "Epoch 4/50\n",
      "1000/1000 [==============================] - 348s 348ms/step - loss: 1.9431 - acc: 0.2603 - val_loss: 1.9293 - val_acc: 0.2600\n",
      "Epoch 5/50\n",
      " 999/1000 [============================>.] - ETA: 0s - loss: 1.9490 - acc: 0.2611Epoch 5/50\n",
      "1000/1000 [==============================] - 349s 349ms/step - loss: 1.9490 - acc: 0.2611 - val_loss: 1.9458 - val_acc: 0.2604\n"
     ]
    }
   ],
   "source": [
    "data_dir = '/home/timpalpant/go/src/github.com/timpalpant/alphacats/model'\n",
    "data = TrainingSequence(os.path.join(data_dir, 'train-samples'))\n",
    "val_data = TrainingSequence(os.path.join(data_dir, 'val-samples'))\n",
    "test_data = TrainingSequence(os.path.join(data_dir, 'test-samples'))\n",
    "\n",
    "X, y = data[0]\n",
    "input_shape = X[0].shape\n",
    "output_shape = y[0].shape[0]\n",
    "model = build_model(input_shape, output_shape)\n",
    "print(model.summary())\n",
    "\n",
    "model, history = train(model, data, val_data)\n",
    "model.save('model.hd5')"
   ]
  },
  {
   "cell_type": "code",
   "execution_count": 7,
   "metadata": {},
   "outputs": [
    {
     "data": {
      "text/plain": [
       "<matplotlib.legend.Legend at 0x7f19ffff1198>"
      ]
     },
     "execution_count": 7,
     "metadata": {},
     "output_type": "execute_result"
    },
    {
     "data": {
      "image/png": "[encoded data removed]",
      "text/plain": [
       "<Figure size 432x288 with 1 Axes>"
      ]
     },
     "metadata": {
      "needs_background": "light"
     },
     "output_type": "display_data"
    }
   ],
   "source": [
    "h = history.history\n",
    "epochs = np.arange(len(h['loss'])) + 1\n",
    "plt.plot(epochs, h['loss'], label='loss')\n",
    "plt.plot(epochs, h['val_loss'], label='val_loss')\n",
    "plt.xticks(epochs)\n",
    "plt.xlabel('Epoch')\n",
    "plt.ylabel('Loss')\n",
    "plt.legend()"
   ]
  },
  {
   "cell_type": "code",
   "execution_count": 8,
   "metadata": {},
   "outputs": [],
   "source": [
    "predicted = model.predict_generator(test_data)"
   ]
  },
  {
   "cell_type": "code",
   "execution_count": 9,
   "metadata": {},
   "outputs": [],
   "source": [
    "actual = test_data[0][1]\n",
    "pred = predicted[:len(actual)]"
   ]
  },
  {
   "cell_type": "markdown",
   "metadata": {},
   "source": [
    "- Fig 1: Normal learning equal probability for each and not to predict invalid positions\n",
    "- Fig 2: See the future with exploding kitten + reset after shuffle\n",
    "- Fig 3: See the future with no kitten + reset after shuffle\n",
    "- Fig 4: Insert exploding kitten + know its position exactly + shift after draws\n",
    "- Fig 5: Other player inserts kitten"
   ]
  },
  {
   "cell_type": "code",
   "execution_count": 11,
   "metadata": {},
   "outputs": [
    {
     "data": {
      "text/plain": [
       "<matplotlib.legend.Legend at 0x7f19fac1cd30>"
      ]
     },
     "execution_count": 11,
     "metadata": {},
     "output_type": "execute_result"
    },
    {
     "data": {
      "image/png": "[encoded data removed]",
      "text/plain": [
       "<Figure size 864x288 with 3 Axes>"
      ]
     },
     "metadata": {
      "needs_background": "light"
     },
     "output_type": "display_data"
    }
   ],
   "source": [
    "positions = np.arange(MAX_CARDS_IN_DRAW_PILE)\n",
    "i = 10\n",
    "\n",
    "plt.figure(figsize=(12,4))\n",
    "plt.subplot(1, 3, 1)\n",
    "plt.bar(positions, pred[i], width=0.5, label='predicted')\n",
    "plt.bar(positions+0.5, actual[i], width=0.5, label='actual')\n",
    "plt.xticks(positions+0.5, positions)\n",
    "plt.xlabel('Position')\n",
    "plt.ylabel('Probability')\n",
    "plt.legend()\n",
    "\n",
    "plt.subplot(1, 3, 2)\n",
    "plt.bar(positions, pred[i+1], width=0.5, label='predicted')\n",
    "plt.bar(positions+0.5, actual[i+1], width=0.5, label='actual')\n",
    "plt.xticks(positions+0.5, positions)\n",
    "plt.xlabel('Position')\n",
    "plt.ylabel('Probability')\n",
    "plt.legend()\n",
    "\n",
    "plt.subplot(1, 3, 3)\n",
    "plt.bar(positions, pred[i+2], width=0.5, label='predicted')\n",
    "plt.bar(positions+0.5, actual[i+2], width=0.5, label='actual')\n",
    "plt.xticks(positions+0.5, positions)\n",
    "plt.xlabel('Position')\n",
    "plt.ylabel('Probability')\n",
    "plt.legend()"
   ]
  },
  {
   "cell_type": "code",
   "execution_count": null,
   "metadata": {},
   "outputs": [],
   "source": []
  }
 ],
 "metadata": {
  "kernelspec": {
   "display_name": "Python 3",
   "language": "python",
   "name": "python3"
  },
  "language_info": {
   "codemirror_mode": {
    "name": "ipython",
    "version": 3
   },
   "file_extension": ".py",
   "mimetype": "text/x-python",
   "name": "python",
   "nbconvert_exporter": "python",
   "pygments_lexer": "ipython3",
   "version": "3.6.7"
  }
 },
 "nbformat": 4,
 "nbformat_minor": 2
}
